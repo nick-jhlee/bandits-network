{
 "cells": [
  {
   "cell_type": "code",
   "execution_count": 1,
   "metadata": {
    "collapsed": true,
    "ExecuteTime": {
     "end_time": "2023-09-01T16:03:32.950507Z",
     "start_time": "2023-09-01T16:03:27.137687Z"
    }
   },
   "outputs": [],
   "source": [
    "from utils import *\n",
    "import glob\n",
    "sns.set_style('whitegrid')\n",
    "\n",
    "\n",
    "T=int(1e3)\n",
    "ts = list(range(1,T+1))\n",
    "gamma=4"
   ]
  },
  {
   "cell_type": "code",
   "execution_count": 2,
   "outputs": [
    {
     "name": "stdout",
     "output_type": "stream",
     "text": [
      "[('baseline', None), ('Flooding-Absorption', None), ('Flooding', 1), ('Flooding', None), ('Flooding-RandomStop-0.5', None)]\n"
     ]
    }
   ],
   "source": [
    "from itertools import product\n",
    "\n",
    "\n",
    "mps, n_gossips = [f\"baseline\", f\"Flooding-Absorption\", f\"Flooding\", f\"Flooding-RandomStop-0.5\"], [1, None]\n",
    "# collect datas in parallel\n",
    "partial_params = list(product(mps, n_gossips))\n",
    "# run experiment only once for baseline\n",
    "partial_params = [item for item in partial_params if\n",
    "                  item[0] != \"baseline\" or (item[0] == \"baseline\" and item[1] is None)]\n",
    "# remove Hitting+Gossiping\n",
    "partial_params = [item for item in partial_params if \"Absorption\" not in item[0] or item[1] is None]\n",
    "# remove RS+Gossiping\n",
    "partial_params = [item for item in partial_params if \"RandomStop\" not in item[0] or item[1] is None]\n",
    "\n",
    "print(partial_params)"
   ],
   "metadata": {
    "collapsed": false,
    "ExecuteTime": {
     "end_time": "2023-09-01T16:03:41.902972Z",
     "start_time": "2023-09-01T16:03:41.879666Z"
    }
   }
  },
  {
   "cell_type": "code",
   "execution_count": 3,
   "outputs": [],
   "source": [
    "## new plots for regret/comm complexity vs. t\n",
    "# legends=None\n",
    "# legends = [\"baseline\", \"Flooding-A\", \"gossiping\", \"Flooding\", \"Prob Flooding (0.5)\", \"IRS\"]\n",
    "legends = [\"baseline\", \"Flooding-A\", \"gossiping\", \"Flooding\", \"Prob Flooding (0.5)\", \"IRS\"]\n",
    "# for dynamic in [\"\"]:\n",
    "for dynamic in [\"_dynamic_sparse\"]:\n",
    "    if dynamic == \"\":\n",
    "        RGs = ['ER', 'BA', 'SBM']\n",
    "    else:\n",
    "        RGs = ['ER']\n",
    "    for RG in RGs:\n",
    "        path = f\"results-uniform_N_100_K_50_k_20/heterogeneous_K=50{dynamic}/{RG}\"\n",
    "        for mode in [\"Regret\", \"Communication\", \"Message\"]:\n",
    "            names2 = glob.glob(f\"{path}/{mode}_final_t_p=1.0_gamma={gamma}*.npz\")\n",
    "            tmp2 = np.load(names2[0])\n",
    "            mean, std = tmp2['arr_0'], tmp2['arr_1']\n",
    "            # if mean.shape[0] > 4:\n",
    "            #     mean, std = np.delete(mean, 1, 0), np.delete(std, 1, 0)\n",
    "            \n",
    "            # overlay results for IRS (Flooding with gamma=1, no gossip)\n",
    "            names = glob.glob(f\"{path}/{mode}_final_t_p=1.0_gamma=1*.npz\")\n",
    "            tmp1 = np.load(names[0])\n",
    "            mean1, std1 = tmp1['arr_0'], tmp1['arr_1']\n",
    "            mean = np.concatenate((mean, mean1[-1].reshape((1,T))))\n",
    "            std = np.concatenate((std, std1[-1].reshape((1,T))))\n",
    "            # # overlay results for naive stopping\n",
    "            # regret_naive = np.load(f\"{path}/{RG_model_name}_naive/Regret_final_t_p=1.0_gamma=2_{RG_model}.npz\")\n",
    "            # regret_mean_naive, regret_std_naive = regret_naive['arr_0'], regret_naive['arr_1']\n",
    "        \n",
    "            title = f\"{mode} vs. t ({RG}, gamma={gamma}, {dynamic})\"\n",
    "            fname = f\"{path}/{mode}_final_t_plot.pdf\"\n",
    "        \n",
    "            plot_final(mean, std, ts, title, \"t\", fname, legends)"
   ],
   "metadata": {
    "collapsed": false,
    "ExecuteTime": {
     "end_time": "2023-09-01T16:03:44.352823Z",
     "start_time": "2023-09-01T16:03:42.343318Z"
    }
   }
  },
  {
   "cell_type": "code",
   "execution_count": null,
   "outputs": [],
   "source": [],
   "metadata": {
    "collapsed": false
   }
  },
  {
   "cell_type": "code",
   "execution_count": 10,
   "outputs": [
    {
     "ename": "FileNotFoundError",
     "evalue": "[Errno 2] No such file or directory: 'results/heterogeneous_K=40/Star/Regret_final_gamma_p=1.0_Star.npz'",
     "output_type": "error",
     "traceback": [
      "\u001B[1;31m---------------------------------------------------------------------------\u001B[0m",
      "\u001B[1;31mFileNotFoundError\u001B[0m                         Traceback (most recent call last)",
      "Cell \u001B[1;32mIn[10], line 13\u001B[0m\n\u001B[0;32m      9\u001B[0m legends \u001B[38;5;241m=\u001B[39m \u001B[38;5;28;01mNone\u001B[39;00m\n\u001B[0;32m     10\u001B[0m \u001B[38;5;66;03m# legends = [\"baseline\", \"Flooding (no gossip)\", \"Flooding (gossip)\", \"Flooding-A\"]\u001B[39;00m\n\u001B[0;32m     11\u001B[0m \n\u001B[0;32m     12\u001B[0m \u001B[38;5;66;03m# plot regret\u001B[39;00m\n\u001B[1;32m---> 13\u001B[0m regret \u001B[38;5;241m=\u001B[39m \u001B[43mnp\u001B[49m\u001B[38;5;241;43m.\u001B[39;49m\u001B[43mload\u001B[49m\u001B[43m(\u001B[49m\u001B[38;5;124;43mf\u001B[39;49m\u001B[38;5;124;43m\"\u001B[39;49m\u001B[38;5;132;43;01m{\u001B[39;49;00m\u001B[43mpath\u001B[49m\u001B[38;5;132;43;01m}\u001B[39;49;00m\u001B[38;5;124;43m/\u001B[39;49m\u001B[38;5;132;43;01m{\u001B[39;49;00m\u001B[43mRG_model_name\u001B[49m\u001B[38;5;132;43;01m}\u001B[39;49;00m\u001B[38;5;124;43m/Regret_final_gamma_p=1.0_\u001B[39;49m\u001B[38;5;132;43;01m{\u001B[39;49;00m\u001B[43mRG_model\u001B[49m\u001B[38;5;132;43;01m}\u001B[39;49;00m\u001B[38;5;124;43m.npz\u001B[39;49m\u001B[38;5;124;43m\"\u001B[39;49m\u001B[43m)\u001B[49m\n\u001B[0;32m     14\u001B[0m regret_mean, regret_std \u001B[38;5;241m=\u001B[39m regret[\u001B[38;5;124m'\u001B[39m\u001B[38;5;124marr_0\u001B[39m\u001B[38;5;124m'\u001B[39m], regret[\u001B[38;5;124m'\u001B[39m\u001B[38;5;124marr_1\u001B[39m\u001B[38;5;124m'\u001B[39m]\n\u001B[0;32m     15\u001B[0m regret_mean, regret_std \u001B[38;5;241m=\u001B[39m regret_mean, regret_std\n",
      "File \u001B[1;32m~\\Anaconda3\\envs\\bandits\\lib\\site-packages\\numpy\\lib\\npyio.py:405\u001B[0m, in \u001B[0;36mload\u001B[1;34m(file, mmap_mode, allow_pickle, fix_imports, encoding, max_header_size)\u001B[0m\n\u001B[0;32m    403\u001B[0m     own_fid \u001B[38;5;241m=\u001B[39m \u001B[38;5;28;01mFalse\u001B[39;00m\n\u001B[0;32m    404\u001B[0m \u001B[38;5;28;01melse\u001B[39;00m:\n\u001B[1;32m--> 405\u001B[0m     fid \u001B[38;5;241m=\u001B[39m stack\u001B[38;5;241m.\u001B[39menter_context(\u001B[38;5;28;43mopen\u001B[39;49m\u001B[43m(\u001B[49m\u001B[43mos_fspath\u001B[49m\u001B[43m(\u001B[49m\u001B[43mfile\u001B[49m\u001B[43m)\u001B[49m\u001B[43m,\u001B[49m\u001B[43m \u001B[49m\u001B[38;5;124;43m\"\u001B[39;49m\u001B[38;5;124;43mrb\u001B[39;49m\u001B[38;5;124;43m\"\u001B[39;49m\u001B[43m)\u001B[49m)\n\u001B[0;32m    406\u001B[0m     own_fid \u001B[38;5;241m=\u001B[39m \u001B[38;5;28;01mTrue\u001B[39;00m\n\u001B[0;32m    408\u001B[0m \u001B[38;5;66;03m# Code to distinguish from NumPy binary files and pickles.\u001B[39;00m\n",
      "\u001B[1;31mFileNotFoundError\u001B[0m: [Errno 2] No such file or directory: 'results/heterogeneous_K=40/Star/Regret_final_gamma_p=1.0_Star.npz'"
     ]
    }
   ],
   "source": [
    "## redo plots for gamma experiments\n",
    "gammas = [1, 2, 3, 4]\n",
    "for RG_model in RG_models:\n",
    "    if RG_model not in ['Path', 'Star', 'Cycle']:\n",
    "        RG_model_name = RG_model[:RG_model.index('_')]\n",
    "    else:\n",
    "        RG_model_name = RG_model\n",
    "\n",
    "    legends = None\n",
    "    # legends = [\"baseline\", \"Flooding (no gossip)\", \"Flooding (gossip)\", \"Flooding-A\"]\n",
    "\n",
    "    # plot regret\n",
    "    regret = np.load(f\"{path}/{RG_model_name}/Regret_final_gamma_p=1.0_{RG_model}.npz\")\n",
    "    regret_mean, regret_std = regret['arr_0'], regret['arr_1']\n",
    "    regret_mean, regret_std = regret_mean, regret_std\n",
    "\n",
    "    regret_title = f\"[Regret] Varying gamma ({RG_model_name})\"\n",
    "    regret_fname = f\"{path}/final_plots/Regret_final_gamma_p=1.0_{RG_model}.pdf\"\n",
    "\n",
    "    plot_final_discrete(regret_mean, regret_std, gammas, regret_title, \"gamma\", regret_fname, legends)\n",
    "\n",
    "    # plot communication\n",
    "    communication = np.load(f\"{path}/{RG_model_name}/Communication_final_gamma_p=1.0_{RG_model}.npz\")\n",
    "    communication_mean, communication_std = communication['arr_0'], communication['arr_1']\n",
    "    communication_mean, communication_std = communication_mean, communication_std\n",
    "\n",
    "    communication_title = f\"[Communication] Varying gamma ({RG_model_name})\"\n",
    "    communication_fname = f\"{path}/final_plots/Communication_final_gamma_p=1.0_{RG_model}.pdf\"\n",
    "\n",
    "    plot_final_discrete(communication_mean, communication_std, gammas, communication_title, \"gamma\", communication_fname, legends)"
   ],
   "metadata": {
    "collapsed": false
   }
  },
  {
   "cell_type": "code",
   "execution_count": null,
   "outputs": [],
   "source": [
    "## new plots for regret/comm complexity vs. p\n",
    "ps = list(np.linspace(0, 1.0, num=21))\n",
    "P = len(ps)\n",
    "for RG_model in RG_models:\n",
    "    if RG_model not in ['Path', 'Star', 'Cycle']:\n",
    "        RG_model_name = RG_model[:RG_model.index('_')]\n",
    "    else:\n",
    "        RG_model_name = RG_model\n",
    "\n",
    "    legends=None\n",
    "    # legends = [\"baseline\", \"Flooding (gamma=2, no gossip)\", \"Flooding (gamma=2, gossip)\", \"Flooding-A\", \"Flooding (gamma=1, no gossip)\"]\n",
    "\n",
    "    # plot regret\n",
    "    regret_2 = np.load(f\"{path}/{RG_model_name}/Regret_final_p_gamma=2_{RG_model}.npz\")\n",
    "    regret_mean, regret_std = regret_2['arr_0'], regret_2['arr_1']\n",
    "    regret_mean, regret_std = regret_mean[:-1], regret_std[:-1]\n",
    "    # overlay results for IRS (Flooding with gamma=1, no gossip)\n",
    "    regret_1 = np.load(f\"{path}/{RG_model_name}/Regret_final_p_gamma=1_{RG_model}.npz\")\n",
    "    regret_mean1, regret_std1 = regret_1['arr_0'], regret_1['arr_1']\n",
    "\n",
    "    regret_mean = np.concatenate((regret_mean, regret_mean1[0].reshape((1,P))))\n",
    "    regret_std = np.concatenate((regret_std, regret_std1[0].reshape((1,P))))\n",
    "\n",
    "    regret_title = f\"Regret vs. p ({RG_model_name})\"\n",
    "    regret_fname = f\"{path}/final_plots/Regret_final_p_{RG_model}.pdf\"\n",
    "\n",
    "    plot_final(regret_mean, regret_std, ps, regret_title, \"p\", regret_fname, legends)\n",
    "\n",
    "    # plot communication\n",
    "    communication_2 = np.load(f\"results/heterogeneous_K=20/{RG_model_name}/Communication_final_p_gamma=2_{RG_model}.npz\")\n",
    "    communication_mean, communication_std = communication_2['arr_0'], communication_2['arr_1']\n",
    "    communication_mean, communication_std = communication_mean[:-1], communication_std[:-1]\n",
    "    # overlay results for IRS (Flooding with gamma=1, no gossip)\n",
    "    communication_1 = np.load(f\"{path}/{RG_model_name}/Communication_final_p_gamma=1_{RG_model}.npz\")\n",
    "    communication_mean1, communication_std1 = communication_1['arr_0'], communication_1['arr_1']\n",
    "\n",
    "    communication_mean = np.concatenate((communication_mean, communication_mean1[0].reshape((1,P))))\n",
    "    communication_std = np.concatenate((communication_std, communication_std1[0].reshape((1,P))))\n",
    "\n",
    "    communication_title = f\"Communication vs. p ({RG_model_name})\"\n",
    "    communication_fname = f\"{path}/final_plots/Communication_final_p_{RG_model}.pdf\"\n",
    "\n",
    "    plot_final(communication_mean, communication_std, ps, communication_title, \"p\", communication_fname, legends)"
   ],
   "metadata": {
    "collapsed": false
   }
  },
  {
   "cell_type": "code",
   "execution_count": null,
   "outputs": [],
   "source": [],
   "metadata": {
    "collapsed": false
   }
  },
  {
   "cell_type": "code",
   "execution_count": null,
   "outputs": [],
   "source": [
    "## new metric\n",
    "# legends=None\n",
    "# legends = [\"baseline\", \"Flooding (gamma=2, no gossip)\", \"gossiping\", \"Flooding-A\", \"IRS\", \"naive-stopping\"]\n",
    "path = f\"results-uniform_N_100_K_50_k_20/heterogeneous_K=50/SBM\"\n",
    "metrics1 = np.ones((4,T))\n",
    "metrics2 = np.ones((4,T))\n",
    "eps = 1e-1\n",
    "for mode in [\"Regret\", \"Communication\"]:\n",
    "    names2 = glob.glob(f\"{path}/{mode}_final_t_p=1.0_gamma={gamma}.npz\")\n",
    "    tmp2 = np.load(names2[0])\n",
    "    mean, std = tmp2['arr_0'], tmp2['arr_1']\n",
    "    if mean.shape[0] > 4:\n",
    "        mean, std = np.delete(mean, 1, 0), np.delete(std, 1, 0)\n",
    "    \n",
    "    if mode == \"Regret\":\n",
    "        tmp = mean[0] - mean\n",
    "        metrics2 *= tmp\n",
    "    else:\n",
    "        tmp = np.log(mean)\n",
    "        metrics2 /= tmp\n",
    "\n",
    "    if mode == \"Communication\":\n",
    "        # metrics1 *= mean + 1\n",
    "        metrics1 *= np.log(mean + 2)\n",
    "    else:\n",
    "        metrics1 *= mean"
   ],
   "metadata": {
    "collapsed": false
   }
  },
  {
   "cell_type": "code",
   "execution_count": null,
   "outputs": [],
   "source": [
    "title = f\"metric vs. t (ER, gamma={gamma})\"\n",
    "fname = f\"{path}/metric_final_t_plot.pdf\"\n",
    "\n",
    "legends = [\"baseline\", \"Flooding-A\", \"gossiping\", \"Flooding\"]\n",
    "\n",
    "fig, ax = plt.subplots()\n",
    "clrs = sns.color_palette(\"husl\", 4)\n",
    "\n",
    "xs = range(1, T+1)\n",
    "with sns.axes_style(\"whitegrid\"):\n",
    "    for i, color in enumerate(clrs):\n",
    "        ax.plot(xs, metrics1[i], label=legends[i], c=color)\n",
    "\n",
    "ax.set_title(title)\n",
    "ax.legend(loc='center left', bbox_to_anchor=(1, 0.5))\n",
    "plt.show()\n",
    "\n",
    "title = (f\"metric vs. t (ER, gamma={gamma})\")\n",
    "fname = f\"{path}/metric_final_t_plot.pdf\"\n",
    "\n",
    "legends = [\"baseline\", \"Flooding-A\", \"gossiping\", \"Flooding\"]\n",
    "# legends = [\"baseline\", \"Flooding-A\", \"gossiping\"]\n",
    "\n",
    "fig, ax = plt.subplots()\n",
    "clrs = sns.color_palette(\"husl\", 3)\n",
    "\n",
    "xs = range(1, T+1)\n",
    "with sns.axes_style(\"whitegrid\"):\n",
    "    for i, color in enumerate(clrs):\n",
    "        ax.plot(xs, metrics2[i+1], label=legends[i+1], c=color)\n",
    "\n",
    "ax.set_title(title)\n",
    "ax.legend(loc='center left', bbox_to_anchor=(1, 0.5))\n",
    "plt.show()"
   ],
   "metadata": {
    "collapsed": false
   }
  }
 ],
 "metadata": {
  "kernelspec": {
   "display_name": "Python 3",
   "language": "python",
   "name": "python3"
  },
  "language_info": {
   "codemirror_mode": {
    "name": "ipython",
    "version": 2
   },
   "file_extension": ".py",
   "mimetype": "text/x-python",
   "name": "python",
   "nbconvert_exporter": "python",
   "pygments_lexer": "ipython2",
   "version": "2.7.6"
  }
 },
 "nbformat": 4,
 "nbformat_minor": 0
}
