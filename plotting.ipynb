{
 "cells": [
  {
   "cell_type": "code",
   "execution_count": 1,
   "metadata": {
    "collapsed": true,
    "ExecuteTime": {
     "end_time": "2023-11-05T04:59:10.168246100Z",
     "start_time": "2023-11-05T04:59:08.355138400Z"
    }
   },
   "outputs": [],
   "source": [
    "from utils import *\n",
    "import glob\n",
    "sns.set_style('whitegrid')\n",
    "\n",
    "\n",
    "T=int(1e3)\n",
    "ts = list(range(1,T+1))\n",
    "gamma=4"
   ]
  },
  {
   "cell_type": "code",
   "execution_count": 2,
   "outputs": [
    {
     "name": "stdout",
     "output_type": "stream",
     "text": [
      "[('baseline', None), ('Flooding-Absorption', None), ('Flooding', 1), ('Flooding', None), ('Flooding-RandomStop-0.5', None)]\n"
     ]
    }
   ],
   "source": [
    "from itertools import product\n",
    "\n",
    "\n",
    "mps, n_gossips = [f\"baseline\", f\"Flooding-Absorption\", f\"Flooding\", f\"Flooding-RandomStop-0.5\"], [1, None]\n",
    "# collect datas in parallel\n",
    "partial_params = list(product(mps, n_gossips))\n",
    "# run experiment only once for baseline\n",
    "partial_params = [item for item in partial_params if\n",
    "                  item[0] != \"baseline\" or (item[0] == \"baseline\" and item[1] is None)]\n",
    "# remove Hitting+Gossiping\n",
    "partial_params = [item for item in partial_params if \"Absorption\" not in item[0] or item[1] is None]\n",
    "# remove RS+Gossiping\n",
    "partial_params = [item for item in partial_params if \"RandomStop\" not in item[0] or item[1] is None]\n",
    "\n",
    "print(partial_params)"
   ],
   "metadata": {
    "collapsed": false,
    "ExecuteTime": {
     "end_time": "2023-11-05T04:59:10.183206600Z",
     "start_time": "2023-11-05T04:59:10.172236Z"
    }
   }
  },
  {
   "cell_type": "code",
   "execution_count": 3,
   "outputs": [],
   "source": [
    "## new plots for regret/comm complexity vs. t\n",
    "# legends=None\n",
    "legends = [\"baseline\", \"Flooding-A\", \"gossiping\", \"Flooding\", \"Prob Flooding (0.5)\", \"IRS\"]\n",
    "# for dynamic in [\"\", \"_dynamic_dense\", \"_dynamic_sparse\"]:\n",
    "for dynamic in [\"\", \"_dynamic_dense\"]:\n",
    "    if dynamic == \"\":\n",
    "        RGs = ['ER', 'BA', 'SBM']\n",
    "    else:\n",
    "        RGs = ['ER']\n",
    "    for RG in RGs:\n",
    "        path = f\"results-uniform_N_100_K_50_k_20/heterogeneous_K=50{dynamic}/{RG}\"\n",
    "        additional_path = f\"results-uniform_N_100_K_50_k_20/additional_prob_flooding/heterogeneous_K=50{dynamic}/{RG}\"\n",
    "        for mode in [\"Regret\", \"Communication\", \"Message\"]:\n",
    "            names2 = glob.glob(f\"{path}/{mode}_final_t_p=1.0_gamma={gamma}*.npz\")\n",
    "            tmp2 = np.load(names2[0])\n",
    "            mean, std = tmp2['arr_0'], tmp2['arr_1']\n",
    "            # if mean.shape[0] > 4:\n",
    "            #     mean, std = np.delete(mean, 1, 0), np.delete(std, 1, 0)\n",
    "            \n",
    "            # overlay results for IRS (Flooding with gamma=1, no gossip)\n",
    "            names = glob.glob(f\"{path}/{mode}_final_t_p=1.0_gamma=1*.npz\")\n",
    "            tmp1 = np.load(names[0])\n",
    "            mean1, std1 = tmp1['arr_0'], tmp1['arr_1']\n",
    "            mean = np.concatenate((mean, mean1[-1].reshape((1,T))))\n",
    "            std = np.concatenate((std, std1[-1].reshape((1,T))))\n",
    "            \n",
    "            # # overlay results for probabilistic flooding\n",
    "            # names = glob.glob(f\"{additional_path}/{mode}_final_t_p=1.0_gamma=4*.npz\")\n",
    "            # tmp1 = np.load(names[0])\n",
    "            # mean1, std1 = tmp1['arr_0'], tmp1['arr_1']\n",
    "            # mean = np.concatenate((mean, mean1.reshape((2,T))))\n",
    "            # std = np.concatenate((std, std1.reshape((2,T))))\n",
    "            # # overlay results for naive stopping\n",
    "            # regret_naive = np.load(f\"{path}/{RG_model_name}_naive/Regret_final_t_p=1.0_gamma=2_{RG_model}.npz\")\n",
    "            # regret_mean_naive, regret_std_naive = regret_naive['arr_0'], regret_naive['arr_1']\n",
    "        \n",
    "            title = f\"{mode} vs. t ({RG}, gamma={gamma}, {dynamic})\"\n",
    "            fname = f\"{path}/{mode}_final_t_plot.pdf\"\n",
    "        \n",
    "            plot_final(mean, std, ts, title, \"t\", fname, legends)"
   ],
   "metadata": {
    "collapsed": false,
    "ExecuteTime": {
     "end_time": "2023-11-05T04:59:15.800196500Z",
     "start_time": "2023-11-05T04:59:10.184203600Z"
    }
   }
  },
  {
   "cell_type": "code",
   "execution_count": null,
   "outputs": [],
   "source": [],
   "metadata": {
    "collapsed": false
   }
  }
 ],
 "metadata": {
  "kernelspec": {
   "display_name": "Python 3",
   "language": "python",
   "name": "python3"
  },
  "language_info": {
   "codemirror_mode": {
    "name": "ipython",
    "version": 2
   },
   "file_extension": ".py",
   "mimetype": "text/x-python",
   "name": "python",
   "nbconvert_exporter": "python",
   "pygments_lexer": "ipython2",
   "version": "2.7.6"
  }
 },
 "nbformat": 4,
 "nbformat_minor": 0
}
