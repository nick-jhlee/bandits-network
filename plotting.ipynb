{
 "cells": [
  {
   "cell_type": "code",
   "execution_count": 4,
   "metadata": {
    "collapsed": true
   },
   "outputs": [],
   "source": [
    "from utils import *\n",
    "sns.set_style('whitegrid')\n",
    "\n",
    "# path = \"results/heterogeneous_K=20\"\n",
    "# RG_models = ['BA_5', 'ER_0.2995732273553991', 'SBM_0.5991464547107982_0.01', 'Path', 'Star', 'Cycle']\n",
    "path = \"results/heterogeneous_K=40\"\n",
    "RG_models = ['BA_3', 'ER_0.0460977535617408', 'SBM_0.0921955071234816_0.001', 'Path', 'Star', 'Cycle']"
   ]
  },
  {
   "cell_type": "code",
   "execution_count": 9,
   "outputs": [
    {
     "ename": "FileNotFoundError",
     "evalue": "[Errno 2] No such file or directory: 'results/heterogeneous_K=40/Star/Regret_final_t_p=1.0_gamma=2_Star.npz'",
     "output_type": "error",
     "traceback": [
      "\u001B[1;31m---------------------------------------------------------------------------\u001B[0m",
      "\u001B[1;31mFileNotFoundError\u001B[0m                         Traceback (most recent call last)",
      "Cell \u001B[1;32mIn[9], line 14\u001B[0m\n\u001B[0;32m     10\u001B[0m legends\u001B[38;5;241m=\u001B[39m\u001B[38;5;28;01mNone\u001B[39;00m\n\u001B[0;32m     11\u001B[0m \u001B[38;5;66;03m# legends = [\"baseline\", \"Flooding (gamma=2, no gossip)\", \"Flooding (gamma=2, gossip)\", \"Flooding-A\", \"Flooding (gamma=1, no gossip)\"]\u001B[39;00m\n\u001B[0;32m     12\u001B[0m \n\u001B[0;32m     13\u001B[0m \u001B[38;5;66;03m# plot regret\u001B[39;00m\n\u001B[1;32m---> 14\u001B[0m regret_2 \u001B[38;5;241m=\u001B[39m \u001B[43mnp\u001B[49m\u001B[38;5;241;43m.\u001B[39;49m\u001B[43mload\u001B[49m\u001B[43m(\u001B[49m\u001B[38;5;124;43mf\u001B[39;49m\u001B[38;5;124;43m\"\u001B[39;49m\u001B[38;5;132;43;01m{\u001B[39;49;00m\u001B[43mpath\u001B[49m\u001B[38;5;132;43;01m}\u001B[39;49;00m\u001B[38;5;124;43m/\u001B[39;49m\u001B[38;5;132;43;01m{\u001B[39;49;00m\u001B[43mRG_model_name\u001B[49m\u001B[38;5;132;43;01m}\u001B[39;49;00m\u001B[38;5;124;43m/Regret_final_t_p=1.0_gamma=2_\u001B[39;49m\u001B[38;5;132;43;01m{\u001B[39;49;00m\u001B[43mRG_model\u001B[49m\u001B[38;5;132;43;01m}\u001B[39;49;00m\u001B[38;5;124;43m.npz\u001B[39;49m\u001B[38;5;124;43m\"\u001B[39;49m\u001B[43m)\u001B[49m\n\u001B[0;32m     15\u001B[0m regret_mean, regret_std \u001B[38;5;241m=\u001B[39m regret_2[\u001B[38;5;124m'\u001B[39m\u001B[38;5;124marr_0\u001B[39m\u001B[38;5;124m'\u001B[39m], regret_2[\u001B[38;5;124m'\u001B[39m\u001B[38;5;124marr_1\u001B[39m\u001B[38;5;124m'\u001B[39m]\n\u001B[0;32m     16\u001B[0m regret_mean, regret_std \u001B[38;5;241m=\u001B[39m regret_mean, regret_std\n",
      "File \u001B[1;32m~\\Anaconda3\\envs\\bandits\\lib\\site-packages\\numpy\\lib\\npyio.py:405\u001B[0m, in \u001B[0;36mload\u001B[1;34m(file, mmap_mode, allow_pickle, fix_imports, encoding, max_header_size)\u001B[0m\n\u001B[0;32m    403\u001B[0m     own_fid \u001B[38;5;241m=\u001B[39m \u001B[38;5;28;01mFalse\u001B[39;00m\n\u001B[0;32m    404\u001B[0m \u001B[38;5;28;01melse\u001B[39;00m:\n\u001B[1;32m--> 405\u001B[0m     fid \u001B[38;5;241m=\u001B[39m stack\u001B[38;5;241m.\u001B[39menter_context(\u001B[38;5;28;43mopen\u001B[39;49m\u001B[43m(\u001B[49m\u001B[43mos_fspath\u001B[49m\u001B[43m(\u001B[49m\u001B[43mfile\u001B[49m\u001B[43m)\u001B[49m\u001B[43m,\u001B[49m\u001B[43m \u001B[49m\u001B[38;5;124;43m\"\u001B[39;49m\u001B[38;5;124;43mrb\u001B[39;49m\u001B[38;5;124;43m\"\u001B[39;49m\u001B[43m)\u001B[49m)\n\u001B[0;32m    406\u001B[0m     own_fid \u001B[38;5;241m=\u001B[39m \u001B[38;5;28;01mTrue\u001B[39;00m\n\u001B[0;32m    408\u001B[0m \u001B[38;5;66;03m# Code to distinguish from NumPy binary files and pickles.\u001B[39;00m\n",
      "\u001B[1;31mFileNotFoundError\u001B[0m: [Errno 2] No such file or directory: 'results/heterogeneous_K=40/Star/Regret_final_t_p=1.0_gamma=2_Star.npz'"
     ]
    }
   ],
   "source": [
    "## new plots for regret/comm complexity vs. t\n",
    "T=int(1e4)\n",
    "ts = list(range(1,T+1))\n",
    "for RG_model in RG_models:\n",
    "    if RG_model not in ['Path', 'Star', 'Cycle']:\n",
    "        RG_model_name = RG_model[:RG_model.index('_')]\n",
    "    else:\n",
    "        RG_model_name = RG_model\n",
    "\n",
    "    legends=None\n",
    "    # legends = [\"baseline\", \"Flooding (gamma=2, no gossip)\", \"Flooding (gamma=2, gossip)\", \"Flooding-A\", \"Flooding (gamma=1, no gossip)\"]\n",
    "\n",
    "    # plot regret\n",
    "    regret_2 = np.load(f\"{path}/{RG_model_name}/Regret_final_t_p=1.0_gamma=2_{RG_model}.npz\")\n",
    "    regret_mean, regret_std = regret_2['arr_0'], regret_2['arr_1']\n",
    "    regret_mean, regret_std = regret_mean, regret_std\n",
    "    # overlay results for IRS (Flooding with gamma=1, no gossip)\n",
    "    regret_1 = np.load(f\"{path}/{RG_model_name}/Regret_final_t_p=1.0_gamma=1_{RG_model}.npz\")\n",
    "    regret_mean1, regret_std1 = regret_1['arr_0'], regret_1['arr_1']\n",
    "\n",
    "    regret_mean = np.concatenate((regret_mean, regret_mean1[1].reshape((1,T))))\n",
    "    regret_std = np.concatenate((regret_std, regret_std1[1].reshape((1,T))))\n",
    "\n",
    "    regret_title = f\"Regret vs. t ({RG_model_name})\"\n",
    "    regret_fname = f\"{path}/final_plots/Regret_final_t_{RG_model}.pdf\"\n",
    "\n",
    "    plot_final(regret_mean, regret_std, ts, regret_title, \"t\", regret_fname, legends)\n",
    "\n",
    "    # plot communication\n",
    "    communication_2 = np.load(f\"{path}/{RG_model_name}/Communication_final_t_p=1.0_gamma=2_{RG_model}.npz\")\n",
    "    communication_mean, communication_std = communication_2['arr_0'], communication_2['arr_1']\n",
    "    communication_mean, communication_std = communication_mean, communication_std\n",
    "    # overlay results for Flooding (gamma=1, no gossip)\n",
    "    communication_1 = np.load(f\"{path}/{RG_model_name}/Communication_final_t_p=1.0_gamma=1_{RG_model}.npz\")\n",
    "    communication_mean1, communication_std1 = communication_1['arr_0'], communication_1['arr_1']\n",
    "\n",
    "    communication_mean = np.concatenate((communication_mean, communication_mean1[1].reshape((1,T))))\n",
    "    communication_std = np.concatenate((communication_std, communication_std1[1].reshape((1,T))))\n",
    "\n",
    "    communication_title = f\"Communication vs. t ({RG_model_name})\"\n",
    "    communication_fname = f\"{path}/final_plots/Communication_final_t_{RG_model}.pdf\"\n",
    "\n",
    "    plot_final(communication_mean, communication_std, ts, communication_title, \"t\", communication_fname, legends)"
   ],
   "metadata": {
    "collapsed": false
   }
  },
  {
   "cell_type": "code",
   "execution_count": 7,
   "outputs": [
    {
     "ename": "FileNotFoundError",
     "evalue": "[Errno 2] No such file or directory: 'results/heterogeneous_K=40/BA/Regret_final_p_gamma=2_BA_3.npz'",
     "output_type": "error",
     "traceback": [
      "\u001B[1;31m---------------------------------------------------------------------------\u001B[0m",
      "\u001B[1;31mFileNotFoundError\u001B[0m                         Traceback (most recent call last)",
      "Cell \u001B[1;32mIn[7], line 14\u001B[0m\n\u001B[0;32m     10\u001B[0m legends\u001B[38;5;241m=\u001B[39m\u001B[38;5;28;01mNone\u001B[39;00m\n\u001B[0;32m     11\u001B[0m \u001B[38;5;66;03m# legends = [\"baseline\", \"Flooding (gamma=2, no gossip)\", \"Flooding (gamma=2, gossip)\", \"Flooding-A\", \"Flooding (gamma=1, no gossip)\"]\u001B[39;00m\n\u001B[0;32m     12\u001B[0m \n\u001B[0;32m     13\u001B[0m \u001B[38;5;66;03m# plot regret\u001B[39;00m\n\u001B[1;32m---> 14\u001B[0m regret_2 \u001B[38;5;241m=\u001B[39m \u001B[43mnp\u001B[49m\u001B[38;5;241;43m.\u001B[39;49m\u001B[43mload\u001B[49m\u001B[43m(\u001B[49m\u001B[38;5;124;43mf\u001B[39;49m\u001B[38;5;124;43m\"\u001B[39;49m\u001B[38;5;132;43;01m{\u001B[39;49;00m\u001B[43mpath\u001B[49m\u001B[38;5;132;43;01m}\u001B[39;49;00m\u001B[38;5;124;43m/\u001B[39;49m\u001B[38;5;132;43;01m{\u001B[39;49;00m\u001B[43mRG_model_name\u001B[49m\u001B[38;5;132;43;01m}\u001B[39;49;00m\u001B[38;5;124;43m/Regret_final_p_gamma=2_\u001B[39;49m\u001B[38;5;132;43;01m{\u001B[39;49;00m\u001B[43mRG_model\u001B[49m\u001B[38;5;132;43;01m}\u001B[39;49;00m\u001B[38;5;124;43m.npz\u001B[39;49m\u001B[38;5;124;43m\"\u001B[39;49m\u001B[43m)\u001B[49m\n\u001B[0;32m     15\u001B[0m regret_mean, regret_std \u001B[38;5;241m=\u001B[39m regret_2[\u001B[38;5;124m'\u001B[39m\u001B[38;5;124marr_0\u001B[39m\u001B[38;5;124m'\u001B[39m], regret_2[\u001B[38;5;124m'\u001B[39m\u001B[38;5;124marr_1\u001B[39m\u001B[38;5;124m'\u001B[39m]\n\u001B[0;32m     16\u001B[0m regret_mean, regret_std \u001B[38;5;241m=\u001B[39m regret_mean[:\u001B[38;5;241m-\u001B[39m\u001B[38;5;241m1\u001B[39m], regret_std[:\u001B[38;5;241m-\u001B[39m\u001B[38;5;241m1\u001B[39m]\n",
      "File \u001B[1;32m~\\Anaconda3\\envs\\bandits\\lib\\site-packages\\numpy\\lib\\npyio.py:405\u001B[0m, in \u001B[0;36mload\u001B[1;34m(file, mmap_mode, allow_pickle, fix_imports, encoding, max_header_size)\u001B[0m\n\u001B[0;32m    403\u001B[0m     own_fid \u001B[38;5;241m=\u001B[39m \u001B[38;5;28;01mFalse\u001B[39;00m\n\u001B[0;32m    404\u001B[0m \u001B[38;5;28;01melse\u001B[39;00m:\n\u001B[1;32m--> 405\u001B[0m     fid \u001B[38;5;241m=\u001B[39m stack\u001B[38;5;241m.\u001B[39menter_context(\u001B[38;5;28;43mopen\u001B[39;49m\u001B[43m(\u001B[49m\u001B[43mos_fspath\u001B[49m\u001B[43m(\u001B[49m\u001B[43mfile\u001B[49m\u001B[43m)\u001B[49m\u001B[43m,\u001B[49m\u001B[43m \u001B[49m\u001B[38;5;124;43m\"\u001B[39;49m\u001B[38;5;124;43mrb\u001B[39;49m\u001B[38;5;124;43m\"\u001B[39;49m\u001B[43m)\u001B[49m)\n\u001B[0;32m    406\u001B[0m     own_fid \u001B[38;5;241m=\u001B[39m \u001B[38;5;28;01mTrue\u001B[39;00m\n\u001B[0;32m    408\u001B[0m \u001B[38;5;66;03m# Code to distinguish from NumPy binary files and pickles.\u001B[39;00m\n",
      "\u001B[1;31mFileNotFoundError\u001B[0m: [Errno 2] No such file or directory: 'results/heterogeneous_K=40/BA/Regret_final_p_gamma=2_BA_3.npz'"
     ]
    }
   ],
   "source": [
    "## new plots for regret/comm complexity vs. p\n",
    "ps = list(np.linspace(0, 1.0, num=21))\n",
    "P = len(ps)\n",
    "for RG_model in RG_models:\n",
    "    if RG_model not in ['Path', 'Star', 'Cycle']:\n",
    "        RG_model_name = RG_model[:RG_model.index('_')]\n",
    "    else:\n",
    "        RG_model_name = RG_model\n",
    "\n",
    "    legends=None\n",
    "    # legends = [\"baseline\", \"Flooding (gamma=2, no gossip)\", \"Flooding (gamma=2, gossip)\", \"Flooding-A\", \"Flooding (gamma=1, no gossip)\"]\n",
    "\n",
    "    # plot regret\n",
    "    regret_2 = np.load(f\"{path}/{RG_model_name}/Regret_final_p_gamma=2_{RG_model}.npz\")\n",
    "    regret_mean, regret_std = regret_2['arr_0'], regret_2['arr_1']\n",
    "    regret_mean, regret_std = regret_mean[:-1], regret_std[:-1]\n",
    "    # overlay results for IRS (Flooding with gamma=1, no gossip)\n",
    "    regret_1 = np.load(f\"{path}/{RG_model_name}/Regret_final_p_gamma=1_{RG_model}.npz\")\n",
    "    regret_mean1, regret_std1 = regret_1['arr_0'], regret_1['arr_1']\n",
    "\n",
    "    regret_mean = np.concatenate((regret_mean, regret_mean1[0].reshape((1,P))))\n",
    "    regret_std = np.concatenate((regret_std, regret_std1[0].reshape((1,P))))\n",
    "\n",
    "    regret_title = f\"Regret vs. p ({RG_model_name})\"\n",
    "    regret_fname = f\"{path}/final_plots/Regret_final_p_{RG_model}.pdf\"\n",
    "\n",
    "    plot_final(regret_mean, regret_std, ps, regret_title, \"p\", regret_fname, legends)\n",
    "\n",
    "    # plot communication\n",
    "    communication_2 = np.load(f\"results/heterogeneous_K=20/{RG_model_name}/Communication_final_p_gamma=2_{RG_model}.npz\")\n",
    "    communication_mean, communication_std = communication_2['arr_0'], communication_2['arr_1']\n",
    "    communication_mean, communication_std = communication_mean[:-1], communication_std[:-1]\n",
    "    # overlay results for IRS (Flooding with gamma=1, no gossip)\n",
    "    communication_1 = np.load(f\"{path}/{RG_model_name}/Communication_final_p_gamma=1_{RG_model}.npz\")\n",
    "    communication_mean1, communication_std1 = communication_1['arr_0'], communication_1['arr_1']\n",
    "\n",
    "    communication_mean = np.concatenate((communication_mean, communication_mean1[0].reshape((1,P))))\n",
    "    communication_std = np.concatenate((communication_std, communication_std1[0].reshape((1,P))))\n",
    "\n",
    "    communication_title = f\"Communication vs. p ({RG_model_name})\"\n",
    "    communication_fname = f\"{path}/final_plots/Communication_final_p_{RG_model}.pdf\"\n",
    "\n",
    "    plot_final(communication_mean, communication_std, ps, communication_title, \"p\", communication_fname, legends)"
   ],
   "metadata": {
    "collapsed": false
   }
  },
  {
   "cell_type": "code",
   "execution_count": 10,
   "outputs": [
    {
     "ename": "FileNotFoundError",
     "evalue": "[Errno 2] No such file or directory: 'results/heterogeneous_K=40/Star/Regret_final_gamma_p=1.0_Star.npz'",
     "output_type": "error",
     "traceback": [
      "\u001B[1;31m---------------------------------------------------------------------------\u001B[0m",
      "\u001B[1;31mFileNotFoundError\u001B[0m                         Traceback (most recent call last)",
      "Cell \u001B[1;32mIn[10], line 13\u001B[0m\n\u001B[0;32m      9\u001B[0m legends \u001B[38;5;241m=\u001B[39m \u001B[38;5;28;01mNone\u001B[39;00m\n\u001B[0;32m     10\u001B[0m \u001B[38;5;66;03m# legends = [\"baseline\", \"Flooding (no gossip)\", \"Flooding (gossip)\", \"Flooding-A\"]\u001B[39;00m\n\u001B[0;32m     11\u001B[0m \n\u001B[0;32m     12\u001B[0m \u001B[38;5;66;03m# plot regret\u001B[39;00m\n\u001B[1;32m---> 13\u001B[0m regret \u001B[38;5;241m=\u001B[39m \u001B[43mnp\u001B[49m\u001B[38;5;241;43m.\u001B[39;49m\u001B[43mload\u001B[49m\u001B[43m(\u001B[49m\u001B[38;5;124;43mf\u001B[39;49m\u001B[38;5;124;43m\"\u001B[39;49m\u001B[38;5;132;43;01m{\u001B[39;49;00m\u001B[43mpath\u001B[49m\u001B[38;5;132;43;01m}\u001B[39;49;00m\u001B[38;5;124;43m/\u001B[39;49m\u001B[38;5;132;43;01m{\u001B[39;49;00m\u001B[43mRG_model_name\u001B[49m\u001B[38;5;132;43;01m}\u001B[39;49;00m\u001B[38;5;124;43m/Regret_final_gamma_p=1.0_\u001B[39;49m\u001B[38;5;132;43;01m{\u001B[39;49;00m\u001B[43mRG_model\u001B[49m\u001B[38;5;132;43;01m}\u001B[39;49;00m\u001B[38;5;124;43m.npz\u001B[39;49m\u001B[38;5;124;43m\"\u001B[39;49m\u001B[43m)\u001B[49m\n\u001B[0;32m     14\u001B[0m regret_mean, regret_std \u001B[38;5;241m=\u001B[39m regret[\u001B[38;5;124m'\u001B[39m\u001B[38;5;124marr_0\u001B[39m\u001B[38;5;124m'\u001B[39m], regret[\u001B[38;5;124m'\u001B[39m\u001B[38;5;124marr_1\u001B[39m\u001B[38;5;124m'\u001B[39m]\n\u001B[0;32m     15\u001B[0m regret_mean, regret_std \u001B[38;5;241m=\u001B[39m regret_mean, regret_std\n",
      "File \u001B[1;32m~\\Anaconda3\\envs\\bandits\\lib\\site-packages\\numpy\\lib\\npyio.py:405\u001B[0m, in \u001B[0;36mload\u001B[1;34m(file, mmap_mode, allow_pickle, fix_imports, encoding, max_header_size)\u001B[0m\n\u001B[0;32m    403\u001B[0m     own_fid \u001B[38;5;241m=\u001B[39m \u001B[38;5;28;01mFalse\u001B[39;00m\n\u001B[0;32m    404\u001B[0m \u001B[38;5;28;01melse\u001B[39;00m:\n\u001B[1;32m--> 405\u001B[0m     fid \u001B[38;5;241m=\u001B[39m stack\u001B[38;5;241m.\u001B[39menter_context(\u001B[38;5;28;43mopen\u001B[39;49m\u001B[43m(\u001B[49m\u001B[43mos_fspath\u001B[49m\u001B[43m(\u001B[49m\u001B[43mfile\u001B[49m\u001B[43m)\u001B[49m\u001B[43m,\u001B[49m\u001B[43m \u001B[49m\u001B[38;5;124;43m\"\u001B[39;49m\u001B[38;5;124;43mrb\u001B[39;49m\u001B[38;5;124;43m\"\u001B[39;49m\u001B[43m)\u001B[49m)\n\u001B[0;32m    406\u001B[0m     own_fid \u001B[38;5;241m=\u001B[39m \u001B[38;5;28;01mTrue\u001B[39;00m\n\u001B[0;32m    408\u001B[0m \u001B[38;5;66;03m# Code to distinguish from NumPy binary files and pickles.\u001B[39;00m\n",
      "\u001B[1;31mFileNotFoundError\u001B[0m: [Errno 2] No such file or directory: 'results/heterogeneous_K=40/Star/Regret_final_gamma_p=1.0_Star.npz'"
     ]
    }
   ],
   "source": [
    "## redo plots for gamma experiments\n",
    "gammas = [1, 2, 3, 4]\n",
    "for RG_model in RG_models:\n",
    "    if RG_model not in ['Path', 'Star', 'Cycle']:\n",
    "        RG_model_name = RG_model[:RG_model.index('_')]\n",
    "    else:\n",
    "        RG_model_name = RG_model\n",
    "\n",
    "    legends = None\n",
    "    # legends = [\"baseline\", \"Flooding (no gossip)\", \"Flooding (gossip)\", \"Flooding-A\"]\n",
    "\n",
    "    # plot regret\n",
    "    regret = np.load(f\"{path}/{RG_model_name}/Regret_final_gamma_p=1.0_{RG_model}.npz\")\n",
    "    regret_mean, regret_std = regret['arr_0'], regret['arr_1']\n",
    "    regret_mean, regret_std = regret_mean, regret_std\n",
    "\n",
    "    regret_title = f\"[Regret] Varying gamma ({RG_model_name})\"\n",
    "    regret_fname = f\"{path}/final_plots/Regret_final_gamma_p=1.0_{RG_model}.pdf\"\n",
    "\n",
    "    plot_final_discrete(regret_mean, regret_std, gammas, regret_title, \"gamma\", regret_fname, legends)\n",
    "\n",
    "    # plot communication\n",
    "    communication = np.load(f\"{path}/{RG_model_name}/Communication_final_gamma_p=1.0_{RG_model}.npz\")\n",
    "    communication_mean, communication_std = communication['arr_0'], communication['arr_1']\n",
    "    communication_mean, communication_std = communication_mean, communication_std\n",
    "\n",
    "    communication_title = f\"[Communication] Varying gamma ({RG_model_name})\"\n",
    "    communication_fname = f\"{path}/final_plots/Communication_final_gamma_p=1.0_{RG_model}.pdf\"\n",
    "\n",
    "    plot_final_discrete(communication_mean, communication_std, gammas, communication_title, \"gamma\", communication_fname, legends)"
   ],
   "metadata": {
    "collapsed": false
   }
  },
  {
   "cell_type": "code",
   "execution_count": null,
   "outputs": [],
   "source": [],
   "metadata": {
    "collapsed": false
   }
  }
 ],
 "metadata": {
  "kernelspec": {
   "display_name": "Python 3",
   "language": "python",
   "name": "python3"
  },
  "language_info": {
   "codemirror_mode": {
    "name": "ipython",
    "version": 2
   },
   "file_extension": ".py",
   "mimetype": "text/x-python",
   "name": "python",
   "nbconvert_exporter": "python",
   "pygments_lexer": "ipython2",
   "version": "2.7.6"
  }
 },
 "nbformat": 4,
 "nbformat_minor": 0
}
