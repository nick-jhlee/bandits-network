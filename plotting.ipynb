{
 "cells": [
  {
   "cell_type": "code",
   "execution_count": 15,
   "metadata": {
    "collapsed": true
   },
   "outputs": [],
   "source": [
    "from utils import *"
   ]
  },
  {
   "cell_type": "code",
   "execution_count": 23,
   "outputs": [],
   "source": [
    "## new plots for regret/comm complexity vs. t\n",
    "T=int(1e3)\n",
    "ts = list(range(1,T+1))\n",
    "for RG_model in ['BA_5', 'Barbell', 'ER_0.2995732273553991', 'SBM_0.5991464547107982_0.01']:\n",
    "    if RG_model != \"Barbell\":\n",
    "        RG_model_name = RG_model[:RG_model.index('_')]\n",
    "    else:\n",
    "        RG_model_name = RG_model\n",
    "\n",
    "    legends = [\"baseline\", \"Flooding (gamma=2, no gossip)\", \"Flooding (gamma=2, gossip)\", \"Flooding-A\", \"Flooding (gamma=1, no gossip)\"]\n",
    "\n",
    "    # plot regret\n",
    "    regret_2 = np.load(f\"results/heterogeneous_K=20/{RG_model_name}/Regret_final_t_p=1.0_gamma=2_{RG_model}.npz\")\n",
    "    regret_mean, regret_std = regret_2['arr_0'], regret_2['arr_1']\n",
    "    # overlay results for Flooding (gamma=1, no gossip)\n",
    "    regret_1 = np.load(f\"results/heterogeneous_K=20/{RG_model_name}/Regret_final_t_p=1.0_gamma=1_{RG_model}.npz\")\n",
    "    regret_mean1, regret_std1 = regret_1['arr_0'], regret_1['arr_1']\n",
    "\n",
    "    regret_mean = np.concatenate((regret_mean, regret_mean1[1].reshape((1,T))))\n",
    "    regret_std = np.concatenate((regret_std, regret_std1[1].reshape((1,T))))\n",
    "\n",
    "    regret_title = f\"Regret vs. t ({RG_model_name})\"\n",
    "    regret_fname = f\"results/heterogeneous_K=20/{RG_model_name}/Regret_final_t_{RG_model}.pdf\"\n",
    "\n",
    "    plot_final(regret_mean, regret_std, ts, regret_title, \"t\", legends, regret_fname)\n",
    "\n",
    "    # plot communication\n",
    "    communication_2 = np.load(f\"results/heterogeneous_K=20/{RG_model_name}/Communication_final_t_p=1.0_gamma=2_{RG_model}.npz\")\n",
    "    communication_mean, communication_std = communication_2['arr_0'], communication_2['arr_1']\n",
    "    # overlay results for Flooding (gamma=1, no gossip)\n",
    "    communication_1 = np.load(f\"results/heterogeneous_K=20/{RG_model_name}/Communication_final_t_p=1.0_gamma=1_{RG_model}.npz\")\n",
    "    communication_mean1, communication_std1 = communication_1['arr_0'], communication_1['arr_1']\n",
    "\n",
    "    communication_mean = np.concatenate((communication_mean, communication_mean1[1].reshape((1,T))))\n",
    "    communication_std = np.concatenate((communication_std, communication_std1[1].reshape((1,T))))\n",
    "\n",
    "    communication_title = f\"Communication vs. t ({RG_model_name})\"\n",
    "    communication_fname = f\"results/heterogeneous_K=20/{RG_model_name}/Communication_final_t_{RG_model}.pdf\"\n",
    "\n",
    "    plot_final(communication_mean, communication_std, ts, communication_title, \"t\", legends, communication_fname)"
   ],
   "metadata": {
    "collapsed": false
   }
  },
  {
   "cell_type": "code",
   "execution_count": null,
   "outputs": [],
   "source": [
    "## redo plots for gamma experiments\n",
    "gammas = [1, 2, 3, 4]\n",
    "for RG_model in ['BA_5', 'Barbell', 'ER_0.2995732273553991', 'SBM_0.5991464547107982_0.01']:\n",
    "    if RG_model != \"Barbell\":\n",
    "        RG_model_name = RG_model[:RG_model.index('_')]\n",
    "    else:\n",
    "        RG_model_name = RG_model\n",
    "\n",
    "    legends = [\"baseline\", \"Flooding (no gossip)\", \"Flooding (gossip)\", \"Flooding-A\"]\n",
    "\n",
    "    # plot regret\n",
    "    regret = np.load(f\"results/heterogeneous_K=20/{RG_model_name}/Regret_final_gamma_p=1.0_{RG_model}.npz\")\n",
    "    regret_mean, regret_std = regret['arr_0'], regret['arr_1']\n",
    "    regret_title = f\"[Regret] Varying gamma ({RG_model_name})\"\n",
    "    regret_fname = f\"results/heterogeneous_K=20/{RG_model_name}/Regret_final_gamma_p=1.0_{RG_model}.pdf\"\n",
    "\n",
    "    plot_final_discrete(regret_mean, regret_std, gammas, regret_title, \"gamma\", legends, regret_fname)\n",
    "\n",
    "    # plot communication\n",
    "    communication = np.load(f\"results/heterogeneous_K=20/{RG_model_name}/Communication_final_gamma_p=1.0_{RG_model}.npz\")\n",
    "    communication_mean, communication_std = communication['arr_0'], communication['arr_1']\n",
    "    communication_title = f\"[Communication] Varying gamma ({RG_model_name})\"\n",
    "    communication_fname = f\"results/heterogeneous_K=20/{RG_model_name}/Communication_final_gamma_p=1.0_{RG_model}.pdf\"\n",
    "\n",
    "    plot_final_discrete(communication_mean, communication_std, gammas, communication_title, \"gamma\", legends, communication_fname)"
   ],
   "metadata": {
    "collapsed": false
   }
  }
 ],
 "metadata": {
  "kernelspec": {
   "display_name": "Python 3",
   "language": "python",
   "name": "python3"
  },
  "language_info": {
   "codemirror_mode": {
    "name": "ipython",
    "version": 2
   },
   "file_extension": ".py",
   "mimetype": "text/x-python",
   "name": "python",
   "nbconvert_exporter": "python",
   "pygments_lexer": "ipython2",
   "version": "2.7.6"
  }
 },
 "nbformat": 4,
 "nbformat_minor": 0
}
