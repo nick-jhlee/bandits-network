{
 "cells": [
  {
   "cell_type": "code",
   "execution_count": 2,
   "metadata": {
    "collapsed": true,
    "ExecuteTime": {
     "end_time": "2023-08-19T10:23:40.614638985Z",
     "start_time": "2023-08-19T10:23:39.533596605Z"
    }
   },
   "outputs": [],
   "source": [
    "from algorithms import *\n",
    "from main import *\n",
    "from utils import *\n",
    "from math import log\n",
    "import os\n",
    "from tqdm import tqdm\n",
    "\n",
    "import grinpy as gnx"
   ]
  },
  {
   "cell_type": "code",
   "execution_count": 3,
   "outputs": [],
   "source": [
    "def non_blocking_power(Network, arm_sets, gamma, a):\n",
    "    Network_result = deepcopy(Network)\n",
    "    for v, w in combinations(Network.nodes, 2):\n",
    "        if gnx.has_path(Network, v, w) or gnx.has_path(Network, w, v):\n",
    "            try:\n",
    "                for path in gnx.all_simple_paths(Network, v, w, gamma):\n",
    "                    if len(path) == 1:\n",
    "                        raise ValueError\n",
    "                    else:\n",
    "                        tmp = True\n",
    "                        for u in path[1:-1]:\n",
    "                            if a in arm_sets[u]:\n",
    "                                tmp = False\n",
    "                        if tmp:\n",
    "                            raise ValueError\n",
    "            except:\n",
    "                Network_result.add_edge(v, w)\n",
    "    return Network_result"
   ],
   "metadata": {
    "collapsed": false,
    "ExecuteTime": {
     "end_time": "2023-08-19T10:23:40.990959352Z",
     "start_time": "2023-08-19T10:23:40.969370321Z"
    }
   }
  },
  {
   "cell_type": "code",
   "execution_count": 4,
   "outputs": [],
   "source": [
    "def compute_invariants(Network, arm_sets, reward_avgs, K, gamma):\n",
    "    # tilde{Delta]_a^v as in Yang et al., INFOCOM 2022\n",
    "    Deltas = []\n",
    "    for a in range(K):\n",
    "        Delta = inf\n",
    "        for v in Network.nodes:\n",
    "            arm_set = arm_sets[v]\n",
    "            max_reward = max([reward_avgs[a] for a in arm_set])\n",
    "            if a in arm_set:\n",
    "                delta = max_reward - reward_avgs[a]\n",
    "                if Delta > delta > 0:\n",
    "                    Delta = delta\n",
    "        if Delta == inf:\n",
    "            Delta = 0\n",
    "        Deltas.append(Delta)\n",
    "\n",
    "    # Compute theta([G^gamma]_{-a})\n",
    "    Thetas, Thetas_FWA = [], []\n",
    "    Network_gamma = gnx.power(Network, gamma)\n",
    "    output = 0\n",
    "    for a in range(K):\n",
    "        Agents_a = [v for v in Network.nodes if a in arm_sets[v] and max([reward_avgs[a] for a in arm_sets[v]]) - reward_avgs[a] > 0]\n",
    "\n",
    "        Network_gamma_a = Network_gamma.subgraph(Agents_a)\n",
    "        theta = gnx.chromatic_number(gnx.complement(Network_gamma_a))  # theta(G) = chromatic_number(complement of G)\n",
    "        Thetas.append(theta)\n",
    "\n",
    "        Network_gamma_a_nonblocking = non_blocking_power(Network, arm_sets, gamma, a)\n",
    "        Network_gamma_a_nonblocking = Network_gamma_a_nonblocking.subgraph(Agents_a)\n",
    "        theta_FWA = gnx.chromatic_number(gnx.complement(Network_gamma_a_nonblocking))\n",
    "        Thetas_FWA.append(theta_FWA)\n",
    "\n",
    "        output += int(Deltas[a] > 0) * (theta_FWA - theta)\n",
    "\n",
    "    return list(zip(Deltas, Thetas, Thetas_FWA)), output"
   ],
   "metadata": {
    "collapsed": false,
    "ExecuteTime": {
     "end_time": "2023-08-19T10:23:41.438282773Z",
     "start_time": "2023-08-19T10:23:41.426540617Z"
    }
   }
  },
  {
   "cell_type": "code",
   "execution_count": 5,
   "outputs": [],
   "source": [
    "def compute_delta(Network, arm_sets, reward_avgs, K, gamma):\n",
    "    tmp, delta = compute_invariants(Network, arm_sets, reward_avgs, K, gamma)\n",
    "    return delta"
   ],
   "metadata": {
    "collapsed": false,
    "ExecuteTime": {
     "end_time": "2023-08-19T10:23:42.109701946Z",
     "start_time": "2023-08-19T10:23:42.094241745Z"
    }
   }
  },
  {
   "cell_type": "code",
   "execution_count": 6,
   "outputs": [],
   "source": [
    "N = 30  # number of agents\n",
    "K = 10  # total number of arms\n",
    "\n",
    "tmp = np.sort(np.random.uniform(size=K))\n",
    "# if not os.path.exists(\"deltas/means.npz\"):\n",
    "#     tmp = np.sort(np.random.uniform(size=K))\n",
    "#     np.savez(\"deltas/means.npz\", tmp=tmp)\n",
    "# else:\n",
    "#     tmp = np.load(\"deltas/means.npz\")\n",
    "#     tmp = tmp['tmp']\n",
    "\n",
    "reward_avgs = {a: tmp[a] for a in range(K)}\n",
    "total_arm_set = list(range(K))\n",
    "\n",
    "\n",
    "def create_uniform_arm_sets(N, K):\n",
    "    arm_sets = []  # uniformly random\n",
    "    for agent in range(N):\n",
    "        arm_set = []\n",
    "        while len(arm_set) == 0:\n",
    "            for arm in range(K):\n",
    "                if np.random.rand() < 0.5:\n",
    "                    arm_set.append(arm)\n",
    "        arm_sets.append(arm_set)\n",
    "    return arm_sets\n",
    "\n",
    "# uniform arm distribution\n",
    "arm_sets_uniform = create_uniform_arm_sets(N, K)\n",
    "# if not os.path.exists(f\"deltas/arm_sets_uniform.json\"):\n",
    "#     arm_sets_uniform = create_uniform_arm_sets(N, K, k)\n",
    "#     with open(f\"deltas/arm_sets_uniform.json\", \"w\") as f:\n",
    "#         json.dump(arm_sets_uniform, f)\n",
    "# else:\n",
    "#     with open(f\"deltas/arm_sets_uniform.json\", \"r\") as f:\n",
    "#         arm_sets_uniform = json.load(f)"
   ],
   "metadata": {
    "collapsed": false,
    "ExecuteTime": {
     "end_time": "2023-08-19T10:23:42.648373974Z",
     "start_time": "2023-08-19T10:23:42.633691257Z"
    }
   }
  },
  {
   "cell_type": "code",
   "execution_count": 7,
   "outputs": [
    {
     "name": "stderr",
     "output_type": "stream",
     "text": [
      "100%|██████████| 10/10 [14:51<00:00, 89.17s/it]\n"
     ]
    },
    {
     "data": {
      "text/plain": "<Figure size 640x480 with 1 Axes>",
      "image/png": "[encoded data removed]"
     },
     "metadata": {},
     "output_type": "display_data"
    },
    {
     "data": {
      "text/plain": "<Figure size 640x480 with 1 Axes>",
      "image/png": "[encoded data removed]"
     },
     "metadata": {},
     "output_type": "display_data"
    }
   ],
   "source": [
    "## delta vs. p\n",
    "## create ER networks of different densities\n",
    "ER_diameters, ER_deltas, ER_regret_gaps = [], [], []\n",
    "u = 2023\n",
    "gamma = 3\n",
    "er_ps = np.linspace(0.01, 2.0, 20) / N**(0.5*(1 - (1/gamma)))\n",
    "n_repeat = 10\n",
    "T = int(1e2)\n",
    "\n",
    "if not os.path.exists(\"deltas/vary_p/networks\"):\n",
    "    os.makedirs(\"deltas/vary_p/networks\")\n",
    "\n",
    "def F(Network):\n",
    "    return compute_delta(Network, arm_sets_uniform, reward_avgs, K, gamma)\n",
    "\n",
    "def F_regret(Network):\n",
    "    Agents = [Agent(v, arm_sets_uniform[v], reward_avgs, Network, 0, 0, K) for v in range(N)]\n",
    "    \n",
    "    regret_gap = 0\n",
    "    for _ in range(10):\n",
    "        # Flooding\n",
    "        problem = create_problem(Network, Agents, T, N, K, (\"Flooding\", None, gamma, 1.0, n_repeat))\n",
    "        Group_Regrets_flooding, _, _, _ = run_ucb(problem, 1.0)\n",
    "        \n",
    "        # FWA\n",
    "        problem = create_problem(Network, Agents, T, N, K, (\"Flooding-Absorption\", None, gamma, 1.0, n_repeat))\n",
    "        Group_Regrets_fwa, _, _, _ = run_ucb(problem, 1.0)\n",
    "        \n",
    "        regret_gap += Group_Regrets_fwa[-1] - Group_Regrets_flooding[-1]\n",
    "    return regret_gap\n",
    "    # for _ in range(n_repeat):\n",
    "    #     # Flooding\n",
    "    #     problem = create_problem(Network, Agents, T, N, K, (None, \"Flooding\", gamma, 1.0, n_repeat))\n",
    "    #     Group_Regrets_flooding, _, _, _ = run_ucb(problem, 1.0)\n",
    "    #     \n",
    "    #     # FWA\n",
    "    #     problem = create_problem(Network, Agents, T, N, K, (None, \"Flooding-Absorption\", gamma, 1.0, n_repeat))\n",
    "    #     Group_Regrets_fwa, _, _, _ = run_ucb(problem, 1.0)\n",
    "    #     \n",
    "    #     regret_gap.append(Group_Regrets_fwa[-1] - Group_Regrets_flooding[-1])\n",
    "    # return regret_gap\n",
    "\n",
    "for u in tqdm(range(2023, 2023+n_repeat)):\n",
    "    # theoretical bound (compute delta)\n",
    "    Networks, diameters = [], []\n",
    "    for er_p in er_ps:\n",
    "        Network_ER = gnx.erdos_renyi_graph(N, er_p, seed=u)\n",
    "        Network_ER.name = f\"ER_{er_p}\"\n",
    "        pos_ER = gnx.spring_layout(Network_ER)\n",
    "        plot_network(Network_ER, pos_ER, parent=\"deltas/vary_p/networks\")\n",
    "        Networks.append(Network_ER)\n",
    "        diameters.append(nx.diameter(Network_ER.subgraph(max(nx.connected_components(Network_ER), key=len))))\n",
    "    \n",
    "    with Pool() as pool:\n",
    "        finals = pool.map_async(F, Networks)\n",
    "        finals = finals.get()\n",
    "    \n",
    "    ER_deltas.append(finals)\n",
    "    ER_diameters.append(diameters)\n",
    "    \n",
    "    # # empirical regret gap (T=500)\n",
    "    # with Pool() as pool:\n",
    "    #     finals = pool.map_async(F_regret, ER_Networks)\n",
    "    #     finals = finals.get()\n",
    "    # \n",
    "    # ER_regret_gaps.append(finals)\n",
    "\n",
    "for i, ER_i in enumerate([ER_deltas, ER_diameters]):\n",
    "# for i, ER_i in enumerate([ER_deltas, ER_regret_gaps]):\n",
    "    ER_i = np.array(ER_i)\n",
    "    ER_i_means = np.mean(ER_i, axis=0)\n",
    "    ER_i_stds = np.std(ER_i, axis=0)\n",
    "    \n",
    "    if i==0:\n",
    "        fname = \"vary_p_deltas\"\n",
    "    elif i==1:\n",
    "        fname = \"vary_p_diameters\"\n",
    "    else:\n",
    "        fname = \"vary_p_regret_gaps\"\n",
    "    \n",
    "    np.savez(f\"deltas/{fname}.npz\", ER_deltas_means=ER_i_means, ER_deltas_stds=ER_i_stds, er_ps=er_ps)\n",
    "    \n",
    "    plt.figure(i)\n",
    "    plt.errorbar(er_ps, ER_i_means, ER_i_stds)\n",
    "    if i==0:\n",
    "        plt.title(f\"ER, delta vs. p (gamma={gamma})\")\n",
    "        plt.ylabel(\"delta\")\n",
    "    elif i==1:\n",
    "        plt.title(f\"ER, diameter vs. p (gamma={gamma})\")\n",
    "        plt.ylabel(\"diameter\")\n",
    "    else:\n",
    "        plt.title(f\"ER, regret gap vs. p (gamma={gamma})\")\n",
    "        plt.ylabel(\"regret gap\")\n",
    "    plt.xlabel(\"p\")\n",
    "    plt.savefig(f\"deltas/{fname}.pdf\", dpi=500)\n",
    "    plt.show()"
   ],
   "metadata": {
    "collapsed": false,
    "ExecuteTime": {
     "end_time": "2023-08-19T10:38:35.652489332Z",
     "start_time": "2023-08-19T10:23:43.499869892Z"
    }
   }
  },
  {
   "cell_type": "code",
   "execution_count": 14,
   "outputs": [
    {
     "data": {
      "text/plain": "[{0,\n  1,\n  2,\n  3,\n  4,\n  5,\n  6,\n  7,\n  8,\n  9,\n  10,\n  11,\n  12,\n  13,\n  14,\n  15,\n  16,\n  17,\n  18,\n  19,\n  20,\n  21,\n  22,\n  23,\n  24,\n  25,\n  26,\n  27,\n  28,\n  29}]"
     },
     "execution_count": 14,
     "metadata": {},
     "output_type": "execute_result"
    }
   ],
   "source": [
    "list(nx.connected_components(Network_ER))"
   ],
   "metadata": {
    "collapsed": false,
    "ExecuteTime": {
     "end_time": "2023-08-19T10:44:02.119934109Z",
     "start_time": "2023-08-19T10:44:02.100122613Z"
    }
   }
  },
  {
   "cell_type": "code",
   "execution_count": 13,
   "outputs": [
    {
     "name": "stderr",
     "output_type": "stream",
     "text": [
      " 10%|█         | 1/10 [9:12:20<82:51:08, 33140.97s/it]\n",
      "\n",
      "KeyboardInterrupt\n",
      "\n"
     ]
    }
   ],
   "source": [
    "## delta vs. gamma\n",
    "if not os.path.exists(\"deltas/vary_gamma/networks\"):\n",
    "    os.makedirs(\"deltas/vary_gamma/networks\")\n",
    "\n",
    "ER_deltas = []\n",
    "u = 2023\n",
    "er_p = 0.4\n",
    "\n",
    "gammas = range(1, 10)\n",
    "n_repeat = 10\n",
    "\n",
    "\n",
    "for u in tqdm(range(2023, 2023+n_repeat)):\n",
    "    # sample a new ER graph\n",
    "    Network_ER = gnx.erdos_renyi_graph(N, er_p, seed=u)\n",
    "    Network_ER.name = f\"ER_{er_p}_{u}\"\n",
    "    pos_ER = gnx.spring_layout(Network_ER)\n",
    "    plot_network(Network_ER, pos_ER, parent=f\"deltas/vary_gamma/networks\")\n",
    "    \n",
    "    def G(gamma):\n",
    "        return compute_delta(Network_ER, arm_sets_uniform, reward_avgs, K, gamma)\n",
    "\n",
    "    with Pool() as pool:\n",
    "        finals = pool.map_async(G, gammas)\n",
    "        finals = finals.get()\n",
    "    \n",
    "    ER_deltas.append(finals)\n",
    "\n",
    "ER_deltas = np.array(ER_deltas)\n",
    "ER_deltas_means = np.mean(ER_deltas, axis=0)\n",
    "ER_deltas_stds = np.std(ER_deltas, axis=0)\n",
    "\n",
    "np.savez(\"deltas/vary_gamma.npz\", ER_deltas_means=ER_deltas_means, ER_deltas_stds=ER_deltas_stds, er_ps=er_ps)\n",
    "\n",
    "plt.errorbar(gammas, ER_deltas_means, ER_deltas_stds, label=\"ER\")\n",
    "plt.legend()\n",
    "plt.title(f\"delta vs. gamma (p={er_p})\")\n",
    "plt.xlabel(\"gamma\")\n",
    "plt.ylabel(\"delta\")\n",
    "plt.savefig(\"deltas/vary_gamma.pdf\", dpi=500)\n",
    "plt.show()"
   ],
   "metadata": {
    "collapsed": false,
    "ExecuteTime": {
     "end_time": "2023-08-19T07:34:15.114005341Z",
     "start_time": "2023-08-18T22:21:52.626980957Z"
    }
   }
  },
  {
   "cell_type": "code",
   "execution_count": null,
   "outputs": [],
   "source": [
    "ps_original = np.random.uniform(size=K)\n",
    "\n",
    "def create_nonuniform_arm_sets(N, K, k, beta):\n",
    "    ps = np.exp(ps_original**beta)\n",
    "    ps /= np.sum(ps)\n",
    "    \n",
    "    while True:\n",
    "        arm_sets = [np.random.choice(range(K), size=k, replace=False, p=ps).tolist() for _ in range(N)]  # uniformly random\n",
    "        # check if all arms are covered\n",
    "        if set(range(K)) == set(chain.from_iterable(arm_sets)):\n",
    "            break\n",
    "    return arm_sets\n",
    "\n",
    "def entropy(ps):\n",
    "    return -sum([p * log(p) for p in ps])"
   ],
   "metadata": {
    "collapsed": false,
    "ExecuteTime": {
     "start_time": "2023-08-19T07:34:15.097903774Z"
    }
   }
  },
  {
   "cell_type": "code",
   "execution_count": null,
   "outputs": [],
   "source": [
    "## delta vs. nonuniformity of arm distribution\n",
    "## create arm distributions of different entropies by varying the temperature parameter\n",
    "\n",
    "ER_deltas, entropies = [], []\n",
    "u = 2023\n",
    "er_p = 0.2\n",
    "gamma = 3\n",
    "Network_ER = gnx.erdos_renyi_graph(N, er_p, seed=u)\n",
    "Network_ER.name = f\"ER_{er_p}\"\n",
    "pos_ER = gnx.spring_layout(Network_ER)\n",
    "plot_network(Network_ER, pos_ER, parent=\"deltas/vary_beta/networks\")\n",
    "\n",
    "n_repeat = 10\n",
    "betas = range(1, 10)\n",
    "\n",
    "for beta in betas:\n",
    "    ps = np.exp(ps_original**beta)\n",
    "    ps /= np.sum(ps)\n",
    "    betas.append(entropy(ps))\n",
    "\n",
    "def H(beta):\n",
    "    arm_sets_nonuniform = create_nonuniform_arm_sets(N, K, k, beta)\n",
    "    return compute_delta(Network_ER, arm_sets_nonuniform, reward_avgs, K, gamma)\n",
    "\n",
    "for _ in tqdm(range(n_repeat)):\n",
    "    ER_deltas = []\n",
    "    with Pool() as pool:\n",
    "        finals = pool.map_async(H, betas)\n",
    "        finals = finals.get()\n",
    "    \n",
    "    ER_deltas.append(finals)\n",
    "\n",
    "ER_deltas = np.array(ER_deltas)\n",
    "ER_deltas_means = np.mean(ER_deltas, axis=0)\n",
    "ER_deltas_stds = np.std(ER_deltas, axis=0)\n",
    "\n",
    "sorted_idx = np.argsort(entropies)\n",
    "entropies = np.array(entropies)[sorted_idx]\n",
    "ER_deltas_means = ER_deltas_means[sorted_idx]\n",
    "ER_deltas_stds = ER_deltas_stds[sorted_idx]\n",
    "\n",
    "np.savez(\"deltas/vary_beta.npz\", ER_deltas_means=ER_deltas_means, ER_deltas_stds=ER_deltas_stds, er_ps=er_ps)\n",
    "\n",
    "plt.errorbar(entropies, ER_deltas_means, ER_deltas_stds, label=\"ER\")\n",
    "plt.legend()\n",
    "plt.title(f\"delta vs. beta (p={er_p}, gamma={gamma})\")\n",
    "plt.xlabel(\"entropy (nat)\")\n",
    "plt.ylabel(\"delta\")\n",
    "plt.savefig(\"deltas/vary_beta.pdf\", dpi=500)\n",
    "plt.show()"
   ],
   "metadata": {
    "collapsed": false,
    "ExecuteTime": {
     "start_time": "2023-08-19T07:34:15.101514388Z"
    }
   }
  },
  {
   "cell_type": "code",
   "execution_count": null,
   "outputs": [],
   "source": [],
   "metadata": {
    "collapsed": false,
    "ExecuteTime": {
     "start_time": "2023-08-19T07:34:15.117965064Z"
    }
   }
  }
 ],
 "metadata": {
  "kernelspec": {
   "display_name": "Python 3",
   "language": "python",
   "name": "python3"
  },
  "language_info": {
   "codemirror_mode": {
    "name": "ipython",
    "version": 2
   },
   "file_extension": ".py",
   "mimetype": "text/x-python",
   "name": "python",
   "nbconvert_exporter": "python",
   "pygments_lexer": "ipython2",
   "version": "2.7.6"
  }
 },
 "nbformat": 4,
 "nbformat_minor": 0
}
